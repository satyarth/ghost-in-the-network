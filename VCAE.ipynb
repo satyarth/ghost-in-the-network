{
 "cells": [
  {
   "cell_type": "code",
   "execution_count": 1,
   "metadata": {},
   "outputs": [],
   "source": [
    "import torch\n",
    "from torch import nn as nn\n",
    "from torch.nn import functional as F\n",
    "from torch.autograd import Variable\n",
    "from torch.utils.data import DataLoader, TensorDataset\n",
    "from torchvision.datasets import ImageFolder\n",
    "import torchvision.transforms as transforms\n",
    "\n",
    "import numpy as np\n",
    "from IPython import display\n",
    "from matplotlib import pyplot as plt"
   ]
  },
  {
   "cell_type": "code",
   "execution_count": 2,
   "metadata": {},
   "outputs": [],
   "source": [
    "transform = transforms.Compose([transforms.Resize((64, 64)), transforms.ToTensor()])"
   ]
  },
  {
   "cell_type": "code",
   "execution_count": 3,
   "metadata": {},
   "outputs": [],
   "source": [
    "trainset = ImageFolder(root='.', transform=transform)\n",
    "train_data = torch.utils.data.DataLoader(trainset, batch_size=16,\n",
    "                                          shuffle=True, num_workers=2)\n"
   ]
  },
  {
   "cell_type": "code",
   "execution_count": 4,
   "metadata": {},
   "outputs": [],
   "source": [
    "z_size = 512\n",
    "class Decoder(nn.Module):\n",
    "    '''\n",
    "        Generative Network\n",
    "    '''\n",
    "    def __init__(self, z_size=z_size, out_size=3, ngf=192):\n",
    "        super(Decoder, self).__init__()\n",
    "        self.z_size = z_size\n",
    "        self.ngf = ngf\n",
    "        self.out_size = out_size\n",
    "\n",
    "        self.main = nn.Sequential(\n",
    "            # input size is z_size\n",
    "            nn.ConvTranspose2d(self.z_size, self.ngf * 8, 4, 1, 0, bias=False),\n",
    "            nn.BatchNorm2d(self.ngf * 8),\n",
    "            nn.ReLU(inplace=True),\n",
    "            # state size: (ngf * 8) x 4 x 4\n",
    "            nn.ConvTranspose2d(self.ngf * 8, self.ngf * 4, 4, 2, 1, bias=False),\n",
    "            nn.BatchNorm2d(self.ngf * 4),\n",
    "            nn.ReLU(inplace=True),\n",
    "            # state size: (ngf * 4) x 8 x 8\n",
    "            nn.ConvTranspose2d(self.ngf * 4, self.ngf * 2, 4, 2, 1, bias=False),\n",
    "            nn.BatchNorm2d(self.ngf * 2),\n",
    "            nn.ReLU(inplace=True),\n",
    "            # state size: (ngf * 2) x 16 x 16\n",
    "            nn.ConvTranspose2d(self.ngf * 2, self.ngf, 4, 2, 1, bias=False),\n",
    "            nn.BatchNorm2d(self.ngf),\n",
    "            nn.ReLU(inplace=True),\n",
    "            # state size: ngf x 32 x 32\n",
    "            nn.ConvTranspose2d(self.ngf, self.out_size, 4, 2, 1, bias=False),\n",
    "            nn.Sigmoid()\n",
    "            # state size: out_size x 64 x 64\n",
    "        )\n",
    "\n",
    "        for m in self.modules():\n",
    "            if isinstance(m, nn.ConvTranspose2d):\n",
    "                m.weight.data.normal_(0.0, 0.02)\n",
    "                if m.bias is not None:\n",
    "                    m.bias.data.zero_()\n",
    "\n",
    "    def forward(self, input):\n",
    "\n",
    "        output = self.main(input)\n",
    "\n",
    "        return output\n",
    "    \n",
    "\n",
    "class Encoder(nn.Module):\n",
    "    '''\n",
    "        Discriminative Network\n",
    "    '''\n",
    "    def __init__(self, in_size=3, ndf=192):\n",
    "        super(Encoder, self).__init__()\n",
    "        self.in_size = in_size\n",
    "        self.ndf = ndf\n",
    "\n",
    "        self.main = nn.Sequential(\n",
    "            # input size is in_size x 64 x 64\n",
    "            nn.Conv2d(self.in_size, self.ndf, 4, 2, 1, bias=False),\n",
    "            nn.ReLU(inplace=True),\n",
    "            # state size: ndf x 32 x 32\n",
    "            nn.Conv2d(self.ndf, self.ndf * 2, 4, 2, 1, bias=False),\n",
    "            nn.BatchNorm2d(self.ndf * 2),\n",
    "            nn.ReLU(inplace=True),\n",
    "            # state size: (ndf * 2) x 16 x 16\n",
    "            nn.Conv2d(self.ndf * 2, self.ndf * 4, 4, 2, 1, bias=False),\n",
    "            nn.BatchNorm2d(self.ndf * 4),\n",
    "            nn.ReLU(inplace=True),\n",
    "            # state size: (ndf * 4) x 8 x 8\n",
    "            nn.Conv2d(self.ndf * 4, self.ndf * 8, 4, 2, 1, bias=False),\n",
    "            nn.BatchNorm2d(self.ndf * 8),\n",
    "            nn.ReLU(inplace=True),\n",
    "            # state size: (ndf * 8) x 4 x 4\n",
    "            nn.Conv2d(self.ndf * 8, self.ndf, 4, 1, 0, bias=False),\n",
    "            nn.Sigmoid()\n",
    "            # state size: 1 x 1 x 1\n",
    "        )\n",
    "\n",
    "        for m in self.modules():\n",
    "            if isinstance(m, nn.Conv2d):\n",
    "                m.weight.data.normal_(0.0, 0.02)\n",
    "                if m.bias is not None:\n",
    "                    m.bias.data.zero_()\n",
    "                    \n",
    "        self.lin_mu = nn.Linear(self.ndf, z_size)\n",
    "        self.lin_logvar = nn.Linear(self.ndf, z_size)\n",
    "        \n",
    "    def forward(self, input):\n",
    "\n",
    "        output = self.main(input)\n",
    "        mu = self.lin_mu(output.view(-1, self.ndf))\n",
    "        logvar = self.lin_logvar(output.view(-1, self.ndf))\n",
    "\n",
    "        return mu, logvar\n",
    "    \n",
    "class CAE(nn.Module):\n",
    "    def __init__(self):\n",
    "        super(CAE, self).__init__()\n",
    "        self.encoder = Encoder()\n",
    "        self.decoder = Decoder()\n",
    "        \n",
    "    def forward(self, x):\n",
    "        mu, logvar = self.encoder(x)\n",
    "        std = torch.exp(0.5*logvar)\n",
    "        eps = torch.randn_like(std)\n",
    "        z = eps.mul(std).add_(mu)\n",
    "        reconstructed = self.decoder(z.view(-1, z_size, 1, 1))\n",
    "        \n",
    "        return mu, logvar, reconstructed"
   ]
  },
  {
   "cell_type": "code",
   "execution_count": 5,
   "metadata": {},
   "outputs": [],
   "source": [
    "model = CAE()"
   ]
  },
  {
   "cell_type": "code",
   "execution_count": 6,
   "metadata": {},
   "outputs": [
    {
     "data": {
      "text/plain": [
       "(tensor([[-4.4508e-01,  1.2450e-01, -2.9661e-01,  ..., -1.5555e-01,\n",
       "          -1.9128e-01, -2.3468e-02],\n",
       "         [-5.8656e-01,  1.9356e-01, -4.1978e-01,  ..., -1.0314e-01,\n",
       "          -2.0254e-01,  2.6838e-01],\n",
       "         [-5.2012e-01,  1.6553e-01, -2.0739e-01,  ..., -1.6692e-01,\n",
       "          -1.2917e-01,  6.9201e-02],\n",
       "         ...,\n",
       "         [-6.3526e-01,  2.7173e-01, -2.9231e-01,  ...,  1.2581e-02,\n",
       "          -1.2427e-01,  1.5035e-01],\n",
       "         [-6.0962e-01,  9.7893e-02, -3.3827e-01,  ..., -3.1689e-02,\n",
       "          -2.5516e-01,  2.0251e-01],\n",
       "         [-6.0646e-01,  2.2274e-01, -3.9847e-02,  ...,  4.9394e-02,\n",
       "          -2.1007e-01,  1.6263e-01]]),\n",
       " tensor([[-5.5645e-02, -1.0790e-01,  7.1155e-01,  ..., -5.3856e-02,\n",
       "          -3.4318e-01,  3.1212e-01],\n",
       "         [-8.9380e-02, -8.8625e-02,  7.4622e-01,  ..., -1.9942e-01,\n",
       "          -4.9213e-01,  4.6603e-01],\n",
       "         [ 4.0949e-03, -1.2575e-01,  8.1666e-01,  ...,  3.2859e-02,\n",
       "          -2.6767e-01,  3.9606e-01],\n",
       "         ...,\n",
       "         [ 7.4984e-02, -4.7246e-01,  6.8986e-01,  ..., -2.8805e-01,\n",
       "          -5.1507e-01,  3.1798e-01],\n",
       "         [-1.4482e-01, -1.2916e-01,  6.3627e-01,  ...,  6.3456e-02,\n",
       "          -4.1123e-01,  4.2314e-01],\n",
       "         [-2.8926e-01, -2.9542e-01,  9.1073e-01,  ..., -9.5243e-02,\n",
       "          -2.6879e-01,  3.2380e-01]]),\n",
       " tensor([[[[ 0.4991,  0.5186,  0.4990,  ...,  0.5020,  0.5006,  0.4894],\n",
       "           [ 0.4872,  0.5060,  0.4775,  ...,  0.4955,  0.5127,  0.4922],\n",
       "           [ 0.5104,  0.4809,  0.5092,  ...,  0.4864,  0.5221,  0.5013],\n",
       "           ...,\n",
       "           [ 0.4900,  0.4863,  0.5068,  ...,  0.4556,  0.5057,  0.4939],\n",
       "           [ 0.5055,  0.4958,  0.5176,  ...,  0.5301,  0.4901,  0.5106],\n",
       "           [ 0.5083,  0.4884,  0.4890,  ...,  0.4885,  0.5149,  0.4974]],\n",
       " \n",
       "          [[ 0.5044,  0.4923,  0.4812,  ...,  0.4983,  0.4947,  0.5036],\n",
       "           [ 0.4857,  0.5113,  0.4976,  ...,  0.4711,  0.4909,  0.4893],\n",
       "           [ 0.4867,  0.5310,  0.5265,  ...,  0.5164,  0.4897,  0.5158],\n",
       "           ...,\n",
       "           [ 0.5081,  0.4960,  0.4983,  ...,  0.4886,  0.4694,  0.4891],\n",
       "           [ 0.5082,  0.5185,  0.4991,  ...,  0.5152,  0.4977,  0.5254],\n",
       "           [ 0.5010,  0.4809,  0.5018,  ...,  0.4916,  0.5128,  0.4973]],\n",
       " \n",
       "          [[ 0.5128,  0.5088,  0.5090,  ...,  0.5007,  0.5115,  0.4911],\n",
       "           [ 0.5102,  0.4860,  0.5332,  ...,  0.5052,  0.5229,  0.4974],\n",
       "           [ 0.5221,  0.5125,  0.5357,  ...,  0.5040,  0.5239,  0.5035],\n",
       "           ...,\n",
       "           [ 0.5099,  0.4995,  0.5122,  ...,  0.4704,  0.5114,  0.5028],\n",
       "           [ 0.5100,  0.5104,  0.4914,  ...,  0.4776,  0.4888,  0.5004],\n",
       "           [ 0.4965,  0.5031,  0.5078,  ...,  0.5141,  0.4979,  0.4978]]],\n",
       " \n",
       " \n",
       "         [[[ 0.5024,  0.5087,  0.5174,  ...,  0.5049,  0.5000,  0.4957],\n",
       "           [ 0.4980,  0.4963,  0.4687,  ...,  0.4803,  0.5034,  0.4987],\n",
       "           [ 0.4958,  0.4835,  0.5288,  ...,  0.4791,  0.5318,  0.5071],\n",
       "           ...,\n",
       "           [ 0.4884,  0.4889,  0.4830,  ...,  0.4626,  0.5119,  0.4794],\n",
       "           [ 0.5023,  0.4908,  0.5278,  ...,  0.5196,  0.5279,  0.5180],\n",
       "           [ 0.5039,  0.4917,  0.4884,  ...,  0.4905,  0.5071,  0.5004]],\n",
       " \n",
       "          [[ 0.5056,  0.5002,  0.4827,  ...,  0.5046,  0.4937,  0.5022],\n",
       "           [ 0.5010,  0.4950,  0.4783,  ...,  0.4899,  0.4822,  0.4852],\n",
       "           [ 0.4881,  0.5107,  0.5191,  ...,  0.5403,  0.5088,  0.5138],\n",
       "           ...,\n",
       "           [ 0.5051,  0.4748,  0.4911,  ...,  0.4710,  0.4953,  0.4862],\n",
       "           [ 0.5107,  0.5169,  0.5072,  ...,  0.4824,  0.4894,  0.5098],\n",
       "           [ 0.5026,  0.4933,  0.5061,  ...,  0.4889,  0.5083,  0.5002]],\n",
       " \n",
       "          [[ 0.5126,  0.5003,  0.5111,  ...,  0.4948,  0.5127,  0.4894],\n",
       "           [ 0.5097,  0.5047,  0.5103,  ...,  0.4877,  0.5277,  0.4883],\n",
       "           [ 0.5178,  0.5178,  0.5011,  ...,  0.5120,  0.5166,  0.4954],\n",
       "           ...,\n",
       "           [ 0.5030,  0.4836,  0.5630,  ...,  0.4682,  0.5256,  0.5013],\n",
       "           [ 0.5070,  0.4999,  0.4895,  ...,  0.4937,  0.4774,  0.4946],\n",
       "           [ 0.4936,  0.4929,  0.5073,  ...,  0.5145,  0.5069,  0.4976]]],\n",
       " \n",
       " \n",
       "         [[[ 0.4997,  0.5175,  0.5025,  ...,  0.5121,  0.4885,  0.4988],\n",
       "           [ 0.5025,  0.4688,  0.5030,  ...,  0.4960,  0.5143,  0.4805],\n",
       "           [ 0.4980,  0.4848,  0.5095,  ...,  0.4816,  0.5449,  0.5089],\n",
       "           ...,\n",
       "           [ 0.4866,  0.4821,  0.4814,  ...,  0.4785,  0.4980,  0.4874],\n",
       "           [ 0.4988,  0.4865,  0.5246,  ...,  0.4825,  0.5302,  0.5030],\n",
       "           [ 0.4999,  0.4926,  0.4957,  ...,  0.4873,  0.5209,  0.4940]],\n",
       " \n",
       "          [[ 0.5075,  0.5035,  0.4828,  ...,  0.5003,  0.4973,  0.5100],\n",
       "           [ 0.4867,  0.5026,  0.5217,  ...,  0.4737,  0.4753,  0.4891],\n",
       "           [ 0.4832,  0.5396,  0.5097,  ...,  0.5122,  0.4811,  0.5087],\n",
       "           ...,\n",
       "           [ 0.5134,  0.4714,  0.4823,  ...,  0.4830,  0.4533,  0.4858],\n",
       "           [ 0.4952,  0.5205,  0.5185,  ...,  0.4965,  0.5141,  0.5127],\n",
       "           [ 0.5005,  0.4773,  0.5084,  ...,  0.4969,  0.5107,  0.5002]],\n",
       " \n",
       "          [[ 0.5136,  0.5075,  0.5056,  ...,  0.4965,  0.5172,  0.4886],\n",
       "           [ 0.5028,  0.4758,  0.5470,  ...,  0.4868,  0.5170,  0.4855],\n",
       "           [ 0.5283,  0.5143,  0.5302,  ...,  0.5049,  0.5377,  0.5004],\n",
       "           ...,\n",
       "           [ 0.5063,  0.5081,  0.5289,  ...,  0.4597,  0.5468,  0.4965],\n",
       "           [ 0.4996,  0.5191,  0.5090,  ...,  0.4898,  0.4729,  0.4951],\n",
       "           [ 0.4911,  0.5033,  0.5016,  ...,  0.5231,  0.5026,  0.4992]]],\n",
       " \n",
       " \n",
       "         ...,\n",
       " \n",
       " \n",
       "         [[[ 0.4906,  0.5164,  0.5118,  ...,  0.5143,  0.4961,  0.4978],\n",
       "           [ 0.4907,  0.4652,  0.4817,  ...,  0.4843,  0.4886,  0.4968],\n",
       "           [ 0.4988,  0.5147,  0.5261,  ...,  0.4578,  0.5566,  0.5161],\n",
       "           ...,\n",
       "           [ 0.4967,  0.4883,  0.4813,  ...,  0.4705,  0.5050,  0.4914],\n",
       "           [ 0.5008,  0.4831,  0.5365,  ...,  0.5343,  0.4991,  0.5118],\n",
       "           [ 0.5023,  0.4870,  0.5001,  ...,  0.4777,  0.4939,  0.5006]],\n",
       " \n",
       "          [[ 0.5034,  0.5159,  0.4894,  ...,  0.4893,  0.4870,  0.5013],\n",
       "           [ 0.4957,  0.4948,  0.5044,  ...,  0.4805,  0.4853,  0.5036],\n",
       "           [ 0.4844,  0.5445,  0.5368,  ...,  0.5332,  0.5102,  0.5051],\n",
       "           ...,\n",
       "           [ 0.5045,  0.4936,  0.4862,  ...,  0.5026,  0.4554,  0.4842],\n",
       "           [ 0.4990,  0.5270,  0.5066,  ...,  0.5010,  0.4939,  0.5151],\n",
       "           [ 0.5027,  0.4790,  0.5041,  ...,  0.4881,  0.5166,  0.4945]],\n",
       " \n",
       "          [[ 0.5096,  0.4998,  0.5031,  ...,  0.4968,  0.5206,  0.4953],\n",
       "           [ 0.5062,  0.5125,  0.5280,  ...,  0.5076,  0.5135,  0.4954],\n",
       "           [ 0.5044,  0.5074,  0.4890,  ...,  0.4970,  0.5348,  0.5041],\n",
       "           ...,\n",
       "           [ 0.4984,  0.4971,  0.5428,  ...,  0.4839,  0.5516,  0.4977],\n",
       "           [ 0.5074,  0.5020,  0.5035,  ...,  0.5058,  0.4951,  0.4972],\n",
       "           [ 0.4910,  0.5013,  0.5063,  ...,  0.5116,  0.5158,  0.5018]]],\n",
       " \n",
       " \n",
       "         [[[ 0.4901,  0.5140,  0.4938,  ...,  0.5074,  0.5068,  0.4968],\n",
       "           [ 0.4856,  0.4867,  0.4947,  ...,  0.5002,  0.5056,  0.4981],\n",
       "           [ 0.5008,  0.5161,  0.5257,  ...,  0.4684,  0.5324,  0.4973],\n",
       "           ...,\n",
       "           [ 0.4898,  0.4959,  0.4790,  ...,  0.4512,  0.5125,  0.4845],\n",
       "           [ 0.5001,  0.5022,  0.5235,  ...,  0.5233,  0.5313,  0.5188],\n",
       "           [ 0.5117,  0.4803,  0.4927,  ...,  0.4919,  0.5157,  0.4993]],\n",
       " \n",
       "          [[ 0.5017,  0.4920,  0.5001,  ...,  0.4955,  0.4977,  0.5066],\n",
       "           [ 0.4995,  0.4871,  0.4788,  ...,  0.4672,  0.5008,  0.5024],\n",
       "           [ 0.4820,  0.5499,  0.5421,  ...,  0.5032,  0.4881,  0.5144],\n",
       "           ...,\n",
       "           [ 0.5031,  0.4759,  0.4779,  ...,  0.4926,  0.4717,  0.4914],\n",
       "           [ 0.5053,  0.5137,  0.5051,  ...,  0.5184,  0.5041,  0.5236],\n",
       "           [ 0.5022,  0.4859,  0.4989,  ...,  0.4877,  0.5172,  0.5010]],\n",
       " \n",
       "          [[ 0.5081,  0.5091,  0.5080,  ...,  0.5039,  0.5090,  0.4951],\n",
       "           [ 0.5248,  0.5013,  0.5286,  ...,  0.5117,  0.5233,  0.4973],\n",
       "           [ 0.5191,  0.4819,  0.5024,  ...,  0.5143,  0.5277,  0.4919],\n",
       "           ...,\n",
       "           [ 0.5031,  0.4848,  0.5528,  ...,  0.4657,  0.5430,  0.5073],\n",
       "           [ 0.4980,  0.5002,  0.5066,  ...,  0.4892,  0.5058,  0.4976],\n",
       "           [ 0.4937,  0.5048,  0.5036,  ...,  0.5107,  0.5098,  0.4977]]],\n",
       " \n",
       " \n",
       "         [[[ 0.4956,  0.5172,  0.4918,  ...,  0.5079,  0.4936,  0.4931],\n",
       "           [ 0.4836,  0.4718,  0.4695,  ...,  0.4929,  0.5012,  0.4909],\n",
       "           [ 0.5104,  0.4706,  0.5344,  ...,  0.5032,  0.5358,  0.5044],\n",
       "           ...,\n",
       "           [ 0.4879,  0.4926,  0.4778,  ...,  0.4691,  0.4955,  0.4909],\n",
       "           [ 0.5168,  0.4827,  0.5122,  ...,  0.5131,  0.5251,  0.5043],\n",
       "           [ 0.5084,  0.4808,  0.5063,  ...,  0.4959,  0.5157,  0.4997]],\n",
       " \n",
       "          [[ 0.5076,  0.5055,  0.4831,  ...,  0.4943,  0.4917,  0.5017],\n",
       "           [ 0.4959,  0.4979,  0.5233,  ...,  0.4604,  0.4879,  0.4840],\n",
       "           [ 0.4871,  0.5635,  0.5228,  ...,  0.5154,  0.5014,  0.5074],\n",
       "           ...,\n",
       "           [ 0.5093,  0.4853,  0.4799,  ...,  0.4976,  0.4663,  0.4880],\n",
       "           [ 0.4961,  0.5201,  0.5064,  ...,  0.4875,  0.5015,  0.5248],\n",
       "           [ 0.5061,  0.4880,  0.5021,  ...,  0.4865,  0.5147,  0.4972]],\n",
       " \n",
       "          [[ 0.5117,  0.5106,  0.5083,  ...,  0.5041,  0.5158,  0.4915],\n",
       "           [ 0.5034,  0.4859,  0.5416,  ...,  0.4878,  0.5441,  0.5016],\n",
       "           [ 0.5307,  0.5037,  0.5220,  ...,  0.5088,  0.5073,  0.5055],\n",
       "           ...,\n",
       "           [ 0.5133,  0.4979,  0.5108,  ...,  0.4686,  0.5600,  0.5042],\n",
       "           [ 0.4967,  0.4838,  0.5242,  ...,  0.4976,  0.4849,  0.4931],\n",
       "           [ 0.4917,  0.5059,  0.5156,  ...,  0.5194,  0.5054,  0.4981]]]]))"
      ]
     },
     "execution_count": 6,
     "metadata": {},
     "output_type": "execute_result"
    }
   ],
   "source": [
    "model(next(iter(train_data))[0])"
   ]
  },
  {
   "cell_type": "code",
   "execution_count": 7,
   "metadata": {},
   "outputs": [],
   "source": [
    "train_loss, val_acc, train_acc = list(), list(), list()\n",
    "\n",
    "def loss_function(recon_x, x, mu, logvar, alpha=1):\n",
    "    BCE = F.binary_cross_entropy(recon_x, x)\n",
    "\n",
    "    # see Appendix B from VAE paper:\n",
    "    # Kingma and Welling. Auto-Encoding Variational Bayes. ICLR, 2014\n",
    "    # https://arxiv.org/abs/1312.6114\n",
    "    # 0.5 * sum(1 + log(sigma^2) - mu^2 - sigma^2)\n",
    "    KLD = -0.5 * torch.sum(1 + logvar - mu.pow(2) - logvar.exp())\n",
    "\n",
    "    return BCE + alpha*KLD\n",
    "\n",
    "network = CAE()\n",
    "params = [param for param in network.parameters() if param.requires_grad]\n",
    "optimizer = torch.optim.Adam(params)\n",
    "# criterion = nn.CrossEntropyLoss()\n",
    "epoch = 0\n",
    "mse_criterion = nn.MSELoss()\n",
    "ce_criterion = nn.CrossEntropyLoss()"
   ]
  },
  {
   "cell_type": "code",
   "execution_count": 19,
   "metadata": {},
   "outputs": [
    {
     "data": {
      "image/png": "[encoded data removed]",
      "text/plain": [
       "<matplotlib.figure.Figure at 0x7faa7405fcc0>"
      ]
     },
     "metadata": {},
     "output_type": "display_data"
    },
    {
     "name": "stderr",
     "output_type": "stream",
     "text": [
      "Process Process-16:\n",
      "Process Process-15:\n",
      "Traceback (most recent call last):\n",
      "Traceback (most recent call last):\n",
      "  File \"/usr/lib/python3.6/multiprocessing/process.py\", line 258, in _bootstrap\n",
      "    self.run()\n",
      "  File \"/usr/lib/python3.6/multiprocessing/process.py\", line 93, in run\n",
      "    self._target(*self._args, **self._kwargs)\n",
      "  File \"/usr/lib/python3.6/site-packages/torch/utils/data/dataloader.py\", line 52, in _worker_loop\n",
      "    r = index_queue.get()\n",
      "  File \"/usr/lib/python3.6/multiprocessing/queues.py\", line 335, in get\n",
      "    res = self._reader.recv_bytes()\n",
      "  File \"/usr/lib/python3.6/multiprocessing/process.py\", line 258, in _bootstrap\n",
      "    self.run()\n",
      "  File \"/usr/lib/python3.6/multiprocessing/process.py\", line 93, in run\n",
      "    self._target(*self._args, **self._kwargs)\n",
      "  File \"/usr/lib/python3.6/multiprocessing/connection.py\", line 216, in recv_bytes\n",
      "    buf = self._recv_bytes(maxlength)\n",
      "  File \"/usr/lib/python3.6/site-packages/torch/utils/data/dataloader.py\", line 57, in _worker_loop\n",
      "    samples = collate_fn([dataset[i] for i in batch_indices])\n",
      "  File \"/usr/lib/python3.6/multiprocessing/connection.py\", line 407, in _recv_bytes\n",
      "    buf = self._recv(4)\n",
      "  File \"/usr/lib/python3.6/multiprocessing/connection.py\", line 379, in _recv\n",
      "    chunk = read(handle, remaining)\n",
      "  File \"/usr/lib/python3.6/site-packages/torch/utils/data/dataloader.py\", line 57, in <listcomp>\n",
      "    samples = collate_fn([dataset[i] for i in batch_indices])\n",
      "KeyboardInterrupt\n",
      "  File \"/usr/lib/python3.6/site-packages/torchvision/datasets/folder.py\", line 101, in __getitem__\n",
      "    sample = self.loader(path)\n",
      "  File \"/usr/lib/python3.6/site-packages/torchvision/datasets/folder.py\", line 147, in default_loader\n",
      "    return pil_loader(path)\n",
      "  File \"/usr/lib/python3.6/site-packages/torchvision/datasets/folder.py\", line 129, in pil_loader\n",
      "    img = Image.open(f)\n"
     ]
    },
    {
     "name": "stdout",
     "output_type": "stream",
     "text": [
      "Loss: 0.628305071592331\n"
     ]
    },
    {
     "name": "stderr",
     "output_type": "stream",
     "text": [
      "  File \"/usr/lib/python3.6/site-packages/PIL/Image.py\", line 2552, in open\n",
      "    prefix = fp.read(16)\n",
      "KeyboardInterrupt\n",
      "Exception ignored in: <bound method _DataLoaderIter.__del__ of <torch.utils.data.dataloader._DataLoaderIter object at 0x7faa51244358>>\n",
      "Traceback (most recent call last):\n",
      "  File \"/usr/lib/python3.6/site-packages/torch/utils/data/dataloader.py\", line 347, in __del__\n",
      "    def __del__(self):\n",
      "  File \"/usr/lib/python3.6/site-packages/torch/utils/data/dataloader.py\", line 178, in handler\n",
      "    _error_if_any_worker_fails()\n",
      "RuntimeError: DataLoader worker (pid 7656) exited unexpectedly with exit code 1.\n"
     ]
    },
    {
     "ename": "KeyboardInterrupt",
     "evalue": "",
     "output_type": "error",
     "traceback": [
      "\u001b[0;31m---------------------------------------------------------------------------\u001b[0m",
      "\u001b[0;31mKeyboardInterrupt\u001b[0m                         Traceback (most recent call last)",
      "\u001b[0;32m<ipython-input-19-ad235ee763bf>\u001b[0m in \u001b[0;36m<module>\u001b[0;34m()\u001b[0m\n\u001b[1;32m      7\u001b[0m     \u001b[0;32mfor\u001b[0m \u001b[0mX_batch\u001b[0m \u001b[0;32min\u001b[0m \u001b[0mtrain_data\u001b[0m\u001b[0;34m:\u001b[0m\u001b[0;34m\u001b[0m\u001b[0m\n\u001b[1;32m      8\u001b[0m         \u001b[0mX_batch\u001b[0m \u001b[0;34m=\u001b[0m \u001b[0mX_batch\u001b[0m\u001b[0;34m[\u001b[0m\u001b[0;36m0\u001b[0m\u001b[0;34m]\u001b[0m\u001b[0;34m\u001b[0m\u001b[0m\n\u001b[0;32m----> 9\u001b[0;31m         \u001b[0mmu\u001b[0m\u001b[0;34m,\u001b[0m \u001b[0mlogvar\u001b[0m\u001b[0;34m,\u001b[0m \u001b[0mreconstructed\u001b[0m \u001b[0;34m=\u001b[0m \u001b[0mnetwork\u001b[0m\u001b[0;34m(\u001b[0m\u001b[0mVariable\u001b[0m\u001b[0;34m(\u001b[0m\u001b[0mX_batch\u001b[0m\u001b[0;34m)\u001b[0m\u001b[0;34m)\u001b[0m\u001b[0;34m\u001b[0m\u001b[0m\n\u001b[0m\u001b[1;32m     10\u001b[0m \u001b[0;34m\u001b[0m\u001b[0m\n\u001b[1;32m     11\u001b[0m         \u001b[0mloss\u001b[0m \u001b[0;34m=\u001b[0m \u001b[0mloss_function\u001b[0m\u001b[0;34m(\u001b[0m\u001b[0mreconstructed\u001b[0m\u001b[0;34m,\u001b[0m \u001b[0mX_batch\u001b[0m\u001b[0;34m,\u001b[0m \u001b[0mmu\u001b[0m\u001b[0;34m,\u001b[0m \u001b[0mlogvar\u001b[0m\u001b[0;34m,\u001b[0m \u001b[0;36m0.01\u001b[0m\u001b[0;34m)\u001b[0m\u001b[0;34m\u001b[0m\u001b[0m\n",
      "\u001b[0;32m/usr/lib/python3.6/site-packages/torch/nn/modules/module.py\u001b[0m in \u001b[0;36m__call__\u001b[0;34m(self, *input, **kwargs)\u001b[0m\n\u001b[1;32m    489\u001b[0m             \u001b[0mresult\u001b[0m \u001b[0;34m=\u001b[0m \u001b[0mself\u001b[0m\u001b[0;34m.\u001b[0m\u001b[0m_slow_forward\u001b[0m\u001b[0;34m(\u001b[0m\u001b[0;34m*\u001b[0m\u001b[0minput\u001b[0m\u001b[0;34m,\u001b[0m \u001b[0;34m**\u001b[0m\u001b[0mkwargs\u001b[0m\u001b[0;34m)\u001b[0m\u001b[0;34m\u001b[0m\u001b[0m\n\u001b[1;32m    490\u001b[0m         \u001b[0;32melse\u001b[0m\u001b[0;34m:\u001b[0m\u001b[0;34m\u001b[0m\u001b[0m\n\u001b[0;32m--> 491\u001b[0;31m             \u001b[0mresult\u001b[0m \u001b[0;34m=\u001b[0m \u001b[0mself\u001b[0m\u001b[0;34m.\u001b[0m\u001b[0mforward\u001b[0m\u001b[0;34m(\u001b[0m\u001b[0;34m*\u001b[0m\u001b[0minput\u001b[0m\u001b[0;34m,\u001b[0m \u001b[0;34m**\u001b[0m\u001b[0mkwargs\u001b[0m\u001b[0;34m)\u001b[0m\u001b[0;34m\u001b[0m\u001b[0m\n\u001b[0m\u001b[1;32m    492\u001b[0m         \u001b[0;32mfor\u001b[0m \u001b[0mhook\u001b[0m \u001b[0;32min\u001b[0m \u001b[0mself\u001b[0m\u001b[0;34m.\u001b[0m\u001b[0m_forward_hooks\u001b[0m\u001b[0;34m.\u001b[0m\u001b[0mvalues\u001b[0m\u001b[0;34m(\u001b[0m\u001b[0;34m)\u001b[0m\u001b[0;34m:\u001b[0m\u001b[0;34m\u001b[0m\u001b[0m\n\u001b[1;32m    493\u001b[0m             \u001b[0mhook_result\u001b[0m \u001b[0;34m=\u001b[0m \u001b[0mhook\u001b[0m\u001b[0;34m(\u001b[0m\u001b[0mself\u001b[0m\u001b[0;34m,\u001b[0m \u001b[0minput\u001b[0m\u001b[0;34m,\u001b[0m \u001b[0mresult\u001b[0m\u001b[0;34m)\u001b[0m\u001b[0;34m\u001b[0m\u001b[0m\n",
      "\u001b[0;32m<ipython-input-4-712e1277f40b>\u001b[0m in \u001b[0;36mforward\u001b[0;34m(self, x)\u001b[0m\n\u001b[1;32m    101\u001b[0m \u001b[0;34m\u001b[0m\u001b[0m\n\u001b[1;32m    102\u001b[0m     \u001b[0;32mdef\u001b[0m \u001b[0mforward\u001b[0m\u001b[0;34m(\u001b[0m\u001b[0mself\u001b[0m\u001b[0;34m,\u001b[0m \u001b[0mx\u001b[0m\u001b[0;34m)\u001b[0m\u001b[0;34m:\u001b[0m\u001b[0;34m\u001b[0m\u001b[0m\n\u001b[0;32m--> 103\u001b[0;31m         \u001b[0mmu\u001b[0m\u001b[0;34m,\u001b[0m \u001b[0mlogvar\u001b[0m \u001b[0;34m=\u001b[0m \u001b[0mself\u001b[0m\u001b[0;34m.\u001b[0m\u001b[0mencoder\u001b[0m\u001b[0;34m(\u001b[0m\u001b[0mx\u001b[0m\u001b[0;34m)\u001b[0m\u001b[0;34m\u001b[0m\u001b[0m\n\u001b[0m\u001b[1;32m    104\u001b[0m         \u001b[0mstd\u001b[0m \u001b[0;34m=\u001b[0m \u001b[0mtorch\u001b[0m\u001b[0;34m.\u001b[0m\u001b[0mexp\u001b[0m\u001b[0;34m(\u001b[0m\u001b[0;36m0.5\u001b[0m\u001b[0;34m*\u001b[0m\u001b[0mlogvar\u001b[0m\u001b[0;34m)\u001b[0m\u001b[0;34m\u001b[0m\u001b[0m\n\u001b[1;32m    105\u001b[0m         \u001b[0meps\u001b[0m \u001b[0;34m=\u001b[0m \u001b[0mtorch\u001b[0m\u001b[0;34m.\u001b[0m\u001b[0mrandn_like\u001b[0m\u001b[0;34m(\u001b[0m\u001b[0mstd\u001b[0m\u001b[0;34m)\u001b[0m\u001b[0;34m\u001b[0m\u001b[0m\n",
      "\u001b[0;32m/usr/lib/python3.6/site-packages/torch/nn/modules/module.py\u001b[0m in \u001b[0;36m__call__\u001b[0;34m(self, *input, **kwargs)\u001b[0m\n\u001b[1;32m    489\u001b[0m             \u001b[0mresult\u001b[0m \u001b[0;34m=\u001b[0m \u001b[0mself\u001b[0m\u001b[0;34m.\u001b[0m\u001b[0m_slow_forward\u001b[0m\u001b[0;34m(\u001b[0m\u001b[0;34m*\u001b[0m\u001b[0minput\u001b[0m\u001b[0;34m,\u001b[0m \u001b[0;34m**\u001b[0m\u001b[0mkwargs\u001b[0m\u001b[0;34m)\u001b[0m\u001b[0;34m\u001b[0m\u001b[0m\n\u001b[1;32m    490\u001b[0m         \u001b[0;32melse\u001b[0m\u001b[0;34m:\u001b[0m\u001b[0;34m\u001b[0m\u001b[0m\n\u001b[0;32m--> 491\u001b[0;31m             \u001b[0mresult\u001b[0m \u001b[0;34m=\u001b[0m \u001b[0mself\u001b[0m\u001b[0;34m.\u001b[0m\u001b[0mforward\u001b[0m\u001b[0;34m(\u001b[0m\u001b[0;34m*\u001b[0m\u001b[0minput\u001b[0m\u001b[0;34m,\u001b[0m \u001b[0;34m**\u001b[0m\u001b[0mkwargs\u001b[0m\u001b[0;34m)\u001b[0m\u001b[0;34m\u001b[0m\u001b[0m\n\u001b[0m\u001b[1;32m    492\u001b[0m         \u001b[0;32mfor\u001b[0m \u001b[0mhook\u001b[0m \u001b[0;32min\u001b[0m \u001b[0mself\u001b[0m\u001b[0;34m.\u001b[0m\u001b[0m_forward_hooks\u001b[0m\u001b[0;34m.\u001b[0m\u001b[0mvalues\u001b[0m\u001b[0;34m(\u001b[0m\u001b[0;34m)\u001b[0m\u001b[0;34m:\u001b[0m\u001b[0;34m\u001b[0m\u001b[0m\n\u001b[1;32m    493\u001b[0m             \u001b[0mhook_result\u001b[0m \u001b[0;34m=\u001b[0m \u001b[0mhook\u001b[0m\u001b[0;34m(\u001b[0m\u001b[0mself\u001b[0m\u001b[0;34m,\u001b[0m \u001b[0minput\u001b[0m\u001b[0;34m,\u001b[0m \u001b[0mresult\u001b[0m\u001b[0;34m)\u001b[0m\u001b[0;34m\u001b[0m\u001b[0m\n",
      "\u001b[0;32m<ipython-input-4-712e1277f40b>\u001b[0m in \u001b[0;36mforward\u001b[0;34m(self, input)\u001b[0m\n\u001b[1;32m     88\u001b[0m     \u001b[0;32mdef\u001b[0m \u001b[0mforward\u001b[0m\u001b[0;34m(\u001b[0m\u001b[0mself\u001b[0m\u001b[0;34m,\u001b[0m \u001b[0minput\u001b[0m\u001b[0;34m)\u001b[0m\u001b[0;34m:\u001b[0m\u001b[0;34m\u001b[0m\u001b[0m\n\u001b[1;32m     89\u001b[0m \u001b[0;34m\u001b[0m\u001b[0m\n\u001b[0;32m---> 90\u001b[0;31m         \u001b[0moutput\u001b[0m \u001b[0;34m=\u001b[0m \u001b[0mself\u001b[0m\u001b[0;34m.\u001b[0m\u001b[0mmain\u001b[0m\u001b[0;34m(\u001b[0m\u001b[0minput\u001b[0m\u001b[0;34m)\u001b[0m\u001b[0;34m\u001b[0m\u001b[0m\n\u001b[0m\u001b[1;32m     91\u001b[0m         \u001b[0mmu\u001b[0m \u001b[0;34m=\u001b[0m \u001b[0mself\u001b[0m\u001b[0;34m.\u001b[0m\u001b[0mlin_mu\u001b[0m\u001b[0;34m(\u001b[0m\u001b[0moutput\u001b[0m\u001b[0;34m.\u001b[0m\u001b[0mview\u001b[0m\u001b[0;34m(\u001b[0m\u001b[0;34m-\u001b[0m\u001b[0;36m1\u001b[0m\u001b[0;34m,\u001b[0m \u001b[0mself\u001b[0m\u001b[0;34m.\u001b[0m\u001b[0mndf\u001b[0m\u001b[0;34m)\u001b[0m\u001b[0;34m)\u001b[0m\u001b[0;34m\u001b[0m\u001b[0m\n\u001b[1;32m     92\u001b[0m         \u001b[0mlogvar\u001b[0m \u001b[0;34m=\u001b[0m \u001b[0mself\u001b[0m\u001b[0;34m.\u001b[0m\u001b[0mlin_logvar\u001b[0m\u001b[0;34m(\u001b[0m\u001b[0moutput\u001b[0m\u001b[0;34m.\u001b[0m\u001b[0mview\u001b[0m\u001b[0;34m(\u001b[0m\u001b[0;34m-\u001b[0m\u001b[0;36m1\u001b[0m\u001b[0;34m,\u001b[0m \u001b[0mself\u001b[0m\u001b[0;34m.\u001b[0m\u001b[0mndf\u001b[0m\u001b[0;34m)\u001b[0m\u001b[0;34m)\u001b[0m\u001b[0;34m\u001b[0m\u001b[0m\n",
      "\u001b[0;32m/usr/lib/python3.6/site-packages/torch/nn/modules/module.py\u001b[0m in \u001b[0;36m__call__\u001b[0;34m(self, *input, **kwargs)\u001b[0m\n\u001b[1;32m    489\u001b[0m             \u001b[0mresult\u001b[0m \u001b[0;34m=\u001b[0m \u001b[0mself\u001b[0m\u001b[0;34m.\u001b[0m\u001b[0m_slow_forward\u001b[0m\u001b[0;34m(\u001b[0m\u001b[0;34m*\u001b[0m\u001b[0minput\u001b[0m\u001b[0;34m,\u001b[0m \u001b[0;34m**\u001b[0m\u001b[0mkwargs\u001b[0m\u001b[0;34m)\u001b[0m\u001b[0;34m\u001b[0m\u001b[0m\n\u001b[1;32m    490\u001b[0m         \u001b[0;32melse\u001b[0m\u001b[0;34m:\u001b[0m\u001b[0;34m\u001b[0m\u001b[0m\n\u001b[0;32m--> 491\u001b[0;31m             \u001b[0mresult\u001b[0m \u001b[0;34m=\u001b[0m \u001b[0mself\u001b[0m\u001b[0;34m.\u001b[0m\u001b[0mforward\u001b[0m\u001b[0;34m(\u001b[0m\u001b[0;34m*\u001b[0m\u001b[0minput\u001b[0m\u001b[0;34m,\u001b[0m \u001b[0;34m**\u001b[0m\u001b[0mkwargs\u001b[0m\u001b[0;34m)\u001b[0m\u001b[0;34m\u001b[0m\u001b[0m\n\u001b[0m\u001b[1;32m    492\u001b[0m         \u001b[0;32mfor\u001b[0m \u001b[0mhook\u001b[0m \u001b[0;32min\u001b[0m \u001b[0mself\u001b[0m\u001b[0;34m.\u001b[0m\u001b[0m_forward_hooks\u001b[0m\u001b[0;34m.\u001b[0m\u001b[0mvalues\u001b[0m\u001b[0;34m(\u001b[0m\u001b[0;34m)\u001b[0m\u001b[0;34m:\u001b[0m\u001b[0;34m\u001b[0m\u001b[0m\n\u001b[1;32m    493\u001b[0m             \u001b[0mhook_result\u001b[0m \u001b[0;34m=\u001b[0m \u001b[0mhook\u001b[0m\u001b[0;34m(\u001b[0m\u001b[0mself\u001b[0m\u001b[0;34m,\u001b[0m \u001b[0minput\u001b[0m\u001b[0;34m,\u001b[0m \u001b[0mresult\u001b[0m\u001b[0;34m)\u001b[0m\u001b[0;34m\u001b[0m\u001b[0m\n",
      "\u001b[0;32m/usr/lib/python3.6/site-packages/torch/nn/modules/container.py\u001b[0m in \u001b[0;36mforward\u001b[0;34m(self, input)\u001b[0m\n\u001b[1;32m     89\u001b[0m     \u001b[0;32mdef\u001b[0m \u001b[0mforward\u001b[0m\u001b[0;34m(\u001b[0m\u001b[0mself\u001b[0m\u001b[0;34m,\u001b[0m \u001b[0minput\u001b[0m\u001b[0;34m)\u001b[0m\u001b[0;34m:\u001b[0m\u001b[0;34m\u001b[0m\u001b[0m\n\u001b[1;32m     90\u001b[0m         \u001b[0;32mfor\u001b[0m \u001b[0mmodule\u001b[0m \u001b[0;32min\u001b[0m \u001b[0mself\u001b[0m\u001b[0;34m.\u001b[0m\u001b[0m_modules\u001b[0m\u001b[0;34m.\u001b[0m\u001b[0mvalues\u001b[0m\u001b[0;34m(\u001b[0m\u001b[0;34m)\u001b[0m\u001b[0;34m:\u001b[0m\u001b[0;34m\u001b[0m\u001b[0m\n\u001b[0;32m---> 91\u001b[0;31m             \u001b[0minput\u001b[0m \u001b[0;34m=\u001b[0m \u001b[0mmodule\u001b[0m\u001b[0;34m(\u001b[0m\u001b[0minput\u001b[0m\u001b[0;34m)\u001b[0m\u001b[0;34m\u001b[0m\u001b[0m\n\u001b[0m\u001b[1;32m     92\u001b[0m         \u001b[0;32mreturn\u001b[0m \u001b[0minput\u001b[0m\u001b[0;34m\u001b[0m\u001b[0m\n\u001b[1;32m     93\u001b[0m \u001b[0;34m\u001b[0m\u001b[0m\n",
      "\u001b[0;32m/usr/lib/python3.6/site-packages/torch/nn/modules/module.py\u001b[0m in \u001b[0;36m__call__\u001b[0;34m(self, *input, **kwargs)\u001b[0m\n\u001b[1;32m    489\u001b[0m             \u001b[0mresult\u001b[0m \u001b[0;34m=\u001b[0m \u001b[0mself\u001b[0m\u001b[0;34m.\u001b[0m\u001b[0m_slow_forward\u001b[0m\u001b[0;34m(\u001b[0m\u001b[0;34m*\u001b[0m\u001b[0minput\u001b[0m\u001b[0;34m,\u001b[0m \u001b[0;34m**\u001b[0m\u001b[0mkwargs\u001b[0m\u001b[0;34m)\u001b[0m\u001b[0;34m\u001b[0m\u001b[0m\n\u001b[1;32m    490\u001b[0m         \u001b[0;32melse\u001b[0m\u001b[0;34m:\u001b[0m\u001b[0;34m\u001b[0m\u001b[0m\n\u001b[0;32m--> 491\u001b[0;31m             \u001b[0mresult\u001b[0m \u001b[0;34m=\u001b[0m \u001b[0mself\u001b[0m\u001b[0;34m.\u001b[0m\u001b[0mforward\u001b[0m\u001b[0;34m(\u001b[0m\u001b[0;34m*\u001b[0m\u001b[0minput\u001b[0m\u001b[0;34m,\u001b[0m \u001b[0;34m**\u001b[0m\u001b[0mkwargs\u001b[0m\u001b[0;34m)\u001b[0m\u001b[0;34m\u001b[0m\u001b[0m\n\u001b[0m\u001b[1;32m    492\u001b[0m         \u001b[0;32mfor\u001b[0m \u001b[0mhook\u001b[0m \u001b[0;32min\u001b[0m \u001b[0mself\u001b[0m\u001b[0;34m.\u001b[0m\u001b[0m_forward_hooks\u001b[0m\u001b[0;34m.\u001b[0m\u001b[0mvalues\u001b[0m\u001b[0;34m(\u001b[0m\u001b[0;34m)\u001b[0m\u001b[0;34m:\u001b[0m\u001b[0;34m\u001b[0m\u001b[0m\n\u001b[1;32m    493\u001b[0m             \u001b[0mhook_result\u001b[0m \u001b[0;34m=\u001b[0m \u001b[0mhook\u001b[0m\u001b[0;34m(\u001b[0m\u001b[0mself\u001b[0m\u001b[0;34m,\u001b[0m \u001b[0minput\u001b[0m\u001b[0;34m,\u001b[0m \u001b[0mresult\u001b[0m\u001b[0;34m)\u001b[0m\u001b[0;34m\u001b[0m\u001b[0m\n",
      "\u001b[0;32m/usr/lib/python3.6/site-packages/torch/nn/modules/conv.py\u001b[0m in \u001b[0;36mforward\u001b[0;34m(self, input)\u001b[0m\n\u001b[1;32m    299\u001b[0m     \u001b[0;32mdef\u001b[0m \u001b[0mforward\u001b[0m\u001b[0;34m(\u001b[0m\u001b[0mself\u001b[0m\u001b[0;34m,\u001b[0m \u001b[0minput\u001b[0m\u001b[0;34m)\u001b[0m\u001b[0;34m:\u001b[0m\u001b[0;34m\u001b[0m\u001b[0m\n\u001b[1;32m    300\u001b[0m         return F.conv2d(input, self.weight, self.bias, self.stride,\n\u001b[0;32m--> 301\u001b[0;31m                         self.padding, self.dilation, self.groups)\n\u001b[0m\u001b[1;32m    302\u001b[0m \u001b[0;34m\u001b[0m\u001b[0m\n\u001b[1;32m    303\u001b[0m \u001b[0;34m\u001b[0m\u001b[0m\n",
      "\u001b[0;31mKeyboardInterrupt\u001b[0m: "
     ]
    },
    {
     "data": {
      "image/png": "[encoded data removed]",
      "text/plain": [
       "<matplotlib.figure.Figure at 0x7faa7405fcc0>"
      ]
     },
     "metadata": {},
     "output_type": "display_data"
    }
   ],
   "source": [
    "while True:\n",
    "    print(\"Epoch\", epoch)\n",
    "    network.train(True)\n",
    "    \n",
    "    epoch_loss = []\n",
    "    \n",
    "    for X_batch in train_data:\n",
    "        X_batch = X_batch[0]\n",
    "        mu, logvar, reconstructed = network(Variable(X_batch))\n",
    "        \n",
    "        loss = loss_function(reconstructed, X_batch, mu, logvar, 0.01)\n",
    "\n",
    "        optimizer.zero_grad()\n",
    "        loss.backward()\n",
    "        optimizer.step()\n",
    "        \n",
    "        try:\n",
    "            epoch_loss.append(loss.data.item())\n",
    "        except:\n",
    "            epoch_loss.append(loss.data.numpy()[0])\n",
    "\n",
    "        train_loss.append(np.mean(epoch_loss))\n",
    "        plt.clf()\n",
    "\n",
    "        plt.plot(train_loss[-100:])\n",
    "        plt.title('Train loss')\n",
    "        display.clear_output(wait=True)\n",
    "        display.display(plt.gcf())\n",
    "\n",
    "        print(\"Loss: {}\".format(train_loss[-1]))\n",
    "        \n",
    "        epoch += 1"
   ]
  },
  {
   "cell_type": "code",
   "execution_count": null,
   "metadata": {},
   "outputs": [],
   "source": [
    "40*31*23*64"
   ]
  },
  {
   "cell_type": "code",
   "execution_count": 17,
   "metadata": {},
   "outputs": [
    {
     "data": {
      "text/plain": [
       "<matplotlib.image.AxesImage at 0x7faa74165e48>"
      ]
     },
     "execution_count": 17,
     "metadata": {},
     "output_type": "execute_result"
    },
    {
     "data": {
      "image/png": "[encoded data removed]",
      "text/plain": [
       "<matplotlib.figure.Figure at 0x7faa7408fc88>"
      ]
     },
     "metadata": {},
     "output_type": "display_data"
    }
   ],
   "source": [
    "c = next(iter(train_data))[0]\n",
    "mu, sigma, a = network(c)\n",
    "# print(a)\n",
    "a = a[0].permute(1, 2, 0)\n",
    "\n",
    "# print(a.shape)\n",
    "a = a.cpu().detach().numpy()\n",
    "b = np.clip(a, 0, 1)\n",
    "plt.imshow(b)"
   ]
  },
  {
   "cell_type": "code",
   "execution_count": 18,
   "metadata": {},
   "outputs": [
    {
     "data": {
      "text/plain": [
       "<matplotlib.image.AxesImage at 0x7faa512c05f8>"
      ]
     },
     "execution_count": 18,
     "metadata": {},
     "output_type": "execute_result"
    },
    {
     "data": {
      "image/png": "[encoded data removed]",
      "text/plain": [
       "<matplotlib.figure.Figure at 0x7faa80bfa198>"
      ]
     },
     "metadata": {},
     "output_type": "display_data"
    }
   ],
   "source": [
    "plt.imshow(c[0].permute(1, 2, 0))"
   ]
  },
  {
   "cell_type": "code",
   "execution_count": null,
   "metadata": {},
   "outputs": [],
   "source": []
  },
  {
   "cell_type": "code",
   "execution_count": null,
   "metadata": {},
   "outputs": [],
   "source": [
    "from copy import deepcopy\n",
    "\n",
    "model = deepcopy(network)"
   ]
  },
  {
   "cell_type": "code",
   "execution_count": null,
   "metadata": {},
   "outputs": [],
   "source": [
    "modules = list(iter(model.modules()))[10:]"
   ]
  },
  {
   "cell_type": "code",
   "execution_count": null,
   "metadata": {},
   "outputs": [],
   "source": [
    "modules"
   ]
  },
  {
   "cell_type": "code",
   "execution_count": null,
   "metadata": {},
   "outputs": [],
   "source": [
    "# one = torch.zeros(1, 100)\n",
    "it = 0\n",
    "# p= torch.rand(1, 1000)\n",
    "p = torch.zeros(1, 500)\n",
    "p[0, np.random.randint(10)] = 1\n",
    "while True:\n",
    "    q = torch.rand(1, 500)\n",
    "#     q = torch.zeros(1, 1000)\n",
    "#     q[0, np.random.randint(00)] = 1\n",
    "\n",
    "    relu = nn.ReLU()\n",
    "    for i in np.arange(0, 1, 0.1):\n",
    "    # one[0, 5]\n",
    "        it += 1\n",
    "        r = p*(1-i) + q*i\n",
    "        x = modules[0](r)\n",
    "        x = relu(x)\n",
    "        x = x.view(1, 40, 8, 8)\n",
    "        x = modules[1](x)\n",
    "\n",
    "        x = modules[2](x)\n",
    "        x = relu(x)\n",
    "        x = modules[3](x)\n",
    "        x = modules[4](x)\n",
    "        x = relu(x)\n",
    "        x = modules[5](x)\n",
    "        x = modules[6](x)\n",
    "\n",
    "        print(x[0].shape)\n",
    "        a = x[0].permute(1, 2, 0)\n",
    "\n",
    "        print(a.shape)\n",
    "        a = a.cpu().detach().numpy()\n",
    "        b = np.clip(a, 0, 1)\n",
    "        \n",
    "        display.clear_output(wait=True)\n",
    "        plt.imshow(b)\n",
    "\n",
    "#         fig, ax = plt.subplots(figsize=(3, 3))\n",
    "# #         fig.savefig(\"{:4d}\".format(it)+\".png\", dpi=fig.dpi)\n",
    "#     #     plt.show()\n",
    "\n",
    "        display.display(plt.gcf())\n",
    "    p = q"
   ]
  },
  {
   "cell_type": "code",
   "execution_count": null,
   "metadata": {},
   "outputs": [],
   "source": [
    "40*8*8"
   ]
  },
  {
   "cell_type": "code",
   "execution_count": null,
   "metadata": {},
   "outputs": [],
   "source": [
    "torch.rand(1)"
   ]
  },
  {
   "cell_type": "code",
   "execution_count": null,
   "metadata": {},
   "outputs": [],
   "source": []
  },
  {
   "cell_type": "code",
   "execution_count": null,
   "metadata": {},
   "outputs": [],
   "source": []
  },
  {
   "cell_type": "code",
   "execution_count": null,
   "metadata": {},
   "outputs": [],
   "source": [
    "y_onehot"
   ]
  },
  {
   "cell_type": "code",
   "execution_count": null,
   "metadata": {},
   "outputs": [],
   "source": [
    "x.view(x.size(0), 1)"
   ]
  },
  {
   "cell_type": "code",
   "execution_count": null,
   "metadata": {},
   "outputs": [],
   "source": [
    "t[[0, 1]]"
   ]
  },
  {
   "cell_type": "code",
   "execution_count": null,
   "metadata": {},
   "outputs": [],
   "source": [
    "x.v"
   ]
  },
  {
   "cell_type": "code",
   "execution_count": null,
   "metadata": {},
   "outputs": [],
   "source": [
    "t[[1,2, 3, 4]] = 1"
   ]
  },
  {
   "cell_type": "code",
   "execution_count": null,
   "metadata": {},
   "outputs": [],
   "source": [
    "t[a, 0] = 1"
   ]
  },
  {
   "cell_type": "code",
   "execution_count": null,
   "metadata": {},
   "outputs": [],
   "source": [
    "t"
   ]
  },
  {
   "cell_type": "code",
   "execution_count": null,
   "metadata": {},
   "outputs": [],
   "source": [
    "optimizer.param_groups[0]['lr'] = 0.0001"
   ]
  },
  {
   "cell_type": "code",
   "execution_count": null,
   "metadata": {},
   "outputs": [],
   "source": []
  }
 ],
 "metadata": {
  "kernelspec": {
   "display_name": "Python 3",
   "language": "python",
   "name": "python3"
  },
  "language_info": {
   "codemirror_mode": {
    "name": "ipython",
    "version": 3
   },
   "file_extension": ".py",
   "mimetype": "text/x-python",
   "name": "python",
   "nbconvert_exporter": "python",
   "pygments_lexer": "ipython3",
   "version": "3.6.6"
  }
 },
 "nbformat": 4,
 "nbformat_minor": 2
}
