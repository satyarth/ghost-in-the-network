{
 "cells": [
  {
   "cell_type": "code",
   "execution_count": 1,
   "metadata": {},
   "outputs": [],
   "source": [
    "import torch\n",
    "from torch import nn as nn\n",
    "from torch.autograd import Variable\n",
    "from torch.utils.data import DataLoader, TensorDataset\n",
    "from torchvision.datasets import ImageFolder\n",
    "import torchvision.transforms as transforms\n",
    "\n",
    "import numpy as np\n",
    "from IPython import display\n",
    "from matplotlib import pyplot as plt"
   ]
  },
  {
   "cell_type": "code",
   "execution_count": 2,
   "metadata": {},
   "outputs": [],
   "source": [
    "transform = transforms.Compose([transforms.Resize((64, 64)), transforms.ToTensor()])"
   ]
  },
  {
   "cell_type": "code",
   "execution_count": 148,
   "metadata": {},
   "outputs": [],
   "source": [
    "trainset = ImageFolder(root='.', transform=transform)\n",
    "train_data = torch.utils.data.DataLoader(trainset, batch_size=32,\n",
    "                                          shuffle=True, num_workers=2)\n"
   ]
  },
  {
   "cell_type": "code",
   "execution_count": 4,
   "metadata": {},
   "outputs": [],
   "source": [
    "z = 500\n",
    "class Decoder(nn.Module):\n",
    "    '''\n",
    "        Generative Network\n",
    "    '''\n",
    "    def __init__(self, z_size=z, out_size=3, ngf=192):\n",
    "        super(Decoder, self).__init__()\n",
    "        self.z_size = z_size\n",
    "        self.ngf = ngf\n",
    "        self.out_size = out_size\n",
    "\n",
    "        self.main = nn.Sequential(\n",
    "            # input size is z_size\n",
    "            nn.ConvTranspose2d(self.z_size, self.ngf * 8, 4, 1, 0, bias=False),\n",
    "            nn.BatchNorm2d(self.ngf * 8),\n",
    "            nn.ReLU(inplace=True),\n",
    "            # state size: (ngf * 8) x 4 x 4\n",
    "            nn.ConvTranspose2d(self.ngf * 8, self.ngf * 4, 4, 2, 1, bias=False),\n",
    "            nn.BatchNorm2d(self.ngf * 4),\n",
    "            nn.ReLU(inplace=True),\n",
    "            # state size: (ngf * 4) x 8 x 8\n",
    "            nn.ConvTranspose2d(self.ngf * 4, self.ngf * 2, 4, 2, 1, bias=False),\n",
    "            nn.BatchNorm2d(self.ngf * 2),\n",
    "            nn.ReLU(inplace=True),\n",
    "            # state size: (ngf * 2) x 16 x 16\n",
    "            nn.ConvTranspose2d(self.ngf * 2, self.ngf, 4, 2, 1, bias=False),\n",
    "            nn.BatchNorm2d(self.ngf),\n",
    "            nn.ReLU(inplace=True),\n",
    "            # state size: ngf x 32 x 32\n",
    "            nn.ConvTranspose2d(self.ngf, self.out_size, 4, 2, 1, bias=False),\n",
    "            nn.Tanh()\n",
    "            # state size: out_size x 64 x 64\n",
    "        )\n",
    "\n",
    "        for m in self.modules():\n",
    "            if isinstance(m, nn.ConvTranspose2d):\n",
    "                m.weight.data.normal_(0.0, 0.02)\n",
    "                if m.bias is not None:\n",
    "                    m.bias.data.zero_()\n",
    "\n",
    "    def forward(self, input):\n",
    "\n",
    "        output = self.main(input)\n",
    "\n",
    "        return output\n",
    "    \n",
    "\n",
    "class Encoder(nn.Module):\n",
    "    '''\n",
    "        Discriminative Network\n",
    "    '''\n",
    "    def __init__(self, in_size=3, ndf=192):\n",
    "        super(Encoder, self).__init__()\n",
    "        self.in_size = in_size\n",
    "        self.ndf = ndf\n",
    "\n",
    "        self.main = nn.Sequential(\n",
    "            # input size is in_size x 64 x 64\n",
    "            nn.Conv2d(self.in_size, self.ndf, 4, 2, 1, bias=False),\n",
    "            nn.ReLU(inplace=True),\n",
    "            # state size: ndf x 32 x 32\n",
    "            nn.Conv2d(self.ndf, self.ndf * 2, 4, 2, 1, bias=False),\n",
    "            nn.BatchNorm2d(self.ndf * 2),\n",
    "            nn.ReLU(inplace=True),\n",
    "            # state size: (ndf * 2) x 16 x 16\n",
    "            nn.Conv2d(self.ndf * 2, self.ndf * 4, 4, 2, 1, bias=False),\n",
    "            nn.BatchNorm2d(self.ndf * 4),\n",
    "            nn.ReLU(inplace=True),\n",
    "            # state size: (ndf * 4) x 8 x 8\n",
    "            nn.Conv2d(self.ndf * 4, self.ndf * 8, 4, 2, 1, bias=False),\n",
    "            nn.BatchNorm2d(self.ndf * 8),\n",
    "            nn.ReLU(inplace=True),\n",
    "            # state size: (ndf * 8) x 4 x 4\n",
    "            nn.Conv2d(self.ndf * 8, z, 4, 1, 0, bias=False),\n",
    "            nn.Sigmoid()\n",
    "            # state size: 1 x 1 x 1\n",
    "        )\n",
    "\n",
    "        for m in self.modules():\n",
    "            if isinstance(m, nn.Conv2d):\n",
    "                m.weight.data.normal_(0.0, 0.02)\n",
    "                if m.bias is not None:\n",
    "                    m.bias.data.zero_()\n",
    "\n",
    "    def forward(self, input):\n",
    "\n",
    "        output = self.main(input)\n",
    "\n",
    "        return output\n",
    "    \n",
    "class CAE(nn.Module):\n",
    "    def __init__(self):\n",
    "        super(CAE, self).__init__()\n",
    "        self.encoder = Encoder()\n",
    "        self.decoder = Decoder()\n",
    "        \n",
    "    def forward(self, x):\n",
    "        z = self.encoder(x)\n",
    "        return self.decoder(z)"
   ]
  },
  {
   "cell_type": "code",
   "execution_count": 5,
   "metadata": {},
   "outputs": [],
   "source": [
    "model = CAE()"
   ]
  },
  {
   "cell_type": "code",
   "execution_count": 6,
   "metadata": {},
   "outputs": [
    {
     "data": {
      "text/plain": [
       "tensor([[[[ 1.6175e-02,  1.6971e-01,  8.0119e-02,  ...,  1.0223e-01,\n",
       "            7.0689e-03,  9.1624e-03],\n",
       "          [ 5.9021e-02,  5.9321e-02,  4.5789e-02,  ...,  6.2758e-02,\n",
       "            8.5033e-03, -6.6335e-02],\n",
       "          [ 3.6036e-02,  2.9526e-02,  7.2083e-03,  ..., -1.0197e-02,\n",
       "           -1.9834e-01, -1.8575e-02],\n",
       "          ...,\n",
       "          [-8.9188e-02, -3.9332e-02, -4.5633e-02,  ...,  9.0282e-02,\n",
       "            1.0048e-01, -3.4852e-02],\n",
       "          [ 1.3254e-02,  2.5782e-01, -8.4982e-02,  ...,  1.9134e-01,\n",
       "           -1.7596e-01, -2.2290e-02],\n",
       "          [-4.6190e-02,  2.8953e-02, -6.5105e-02,  ...,  4.9440e-02,\n",
       "           -1.2169e-02, -1.4772e-02]],\n",
       "\n",
       "         [[ 6.8783e-02,  4.3373e-02,  2.0338e-02,  ...,  1.7234e-02,\n",
       "            1.5269e-02, -8.9105e-03],\n",
       "          [-4.1302e-02,  8.9127e-02, -1.0139e-01,  ...,  1.6139e-01,\n",
       "            1.5885e-02,  2.8158e-02],\n",
       "          [-3.9603e-02, -3.6963e-03, -4.9058e-02,  ..., -1.8456e-01,\n",
       "            6.6880e-03,  7.3085e-02],\n",
       "          ...,\n",
       "          [-4.7240e-02,  6.4190e-02, -1.5389e-01,  ...,  7.9381e-02,\n",
       "           -7.0475e-02, -4.4939e-04],\n",
       "          [-5.2558e-03, -3.6363e-02, -1.1226e-01,  ..., -4.2728e-02,\n",
       "           -6.2889e-02, -7.0857e-03],\n",
       "          [-1.7059e-02,  1.1874e-01,  1.6453e-03,  ...,  9.3552e-02,\n",
       "           -6.9445e-02, -1.5013e-02]],\n",
       "\n",
       "         [[-1.6589e-02, -3.6367e-02, -3.1485e-03,  ...,  6.4711e-02,\n",
       "            2.7061e-03,  6.3999e-02],\n",
       "          [ 1.1117e-02, -1.3221e-01,  7.0363e-02,  ..., -5.3750e-02,\n",
       "            4.4856e-02, -6.1744e-02],\n",
       "          [ 5.8058e-02,  1.1638e-02,  1.0278e-03,  ...,  1.4156e-01,\n",
       "           -2.4454e-02, -1.3528e-02],\n",
       "          ...,\n",
       "          [ 1.2139e-01, -7.0533e-02,  1.4786e-01,  ..., -4.5500e-02,\n",
       "            5.9466e-02, -3.6728e-02],\n",
       "          [ 5.8744e-02, -5.5319e-02,  1.0088e-01,  ...,  1.7606e-01,\n",
       "            7.1409e-02,  2.8648e-02],\n",
       "          [ 2.9156e-02,  6.0754e-02,  9.7540e-03,  ...,  1.8772e-02,\n",
       "           -1.7311e-02, -2.8269e-02]]],\n",
       "\n",
       "\n",
       "        [[[ 1.7000e-02,  1.7139e-01,  6.3384e-02,  ...,  1.0561e-01,\n",
       "            1.1323e-02, -8.6286e-03],\n",
       "          [ 4.8346e-02,  7.6971e-02,  3.2952e-02,  ...,  1.6370e-03,\n",
       "           -1.6719e-01, -7.8638e-02],\n",
       "          [ 2.3379e-02,  1.0617e-01, -8.0587e-02,  ..., -4.6170e-02,\n",
       "           -2.5207e-01,  4.4056e-03],\n",
       "          ...,\n",
       "          [-8.4723e-02, -1.7985e-02,  1.7651e-02,  ...,  1.0695e-01,\n",
       "            8.2034e-02, -4.2370e-02],\n",
       "          [ 2.4386e-02,  2.6414e-01, -8.7744e-02,  ...,  1.8481e-01,\n",
       "           -1.2781e-01, -2.2241e-02],\n",
       "          [-4.6220e-02,  2.0155e-02, -5.9112e-02,  ...,  3.8549e-02,\n",
       "           -3.7026e-03, -1.6338e-02]],\n",
       "\n",
       "         [[ 6.4838e-02,  5.1708e-02,  5.3977e-02,  ...,  4.9540e-02,\n",
       "            3.6685e-02,  8.2356e-03],\n",
       "          [-3.0792e-02,  1.1338e-01, -1.0186e-01,  ...,  1.2080e-01,\n",
       "            1.4540e-02,  1.0005e-02],\n",
       "          [-3.6448e-02, -2.4867e-02,  1.2370e-02,  ..., -1.7894e-01,\n",
       "           -3.0237e-02,  5.6599e-02],\n",
       "          ...,\n",
       "          [-4.8172e-02,  6.6828e-02, -1.4426e-01,  ...,  6.8980e-02,\n",
       "           -1.1965e-01, -8.7991e-03],\n",
       "          [ 1.3290e-02, -1.5866e-02, -9.3335e-02,  ...,  2.4038e-02,\n",
       "           -4.1872e-02,  2.5168e-02],\n",
       "          [-2.2588e-02,  1.1655e-01, -6.4778e-03,  ...,  1.0358e-01,\n",
       "           -1.0253e-01, -1.8430e-02]],\n",
       "\n",
       "         [[-5.0283e-04, -2.0308e-02, -2.0259e-02,  ...,  9.4202e-02,\n",
       "           -2.8918e-03,  4.8304e-02],\n",
       "          [ 5.4466e-03, -1.5615e-01,  1.1810e-01,  ..., -6.6528e-03,\n",
       "            3.5804e-03, -4.2176e-02],\n",
       "          [ 6.7779e-02, -2.9173e-03,  3.1572e-02,  ...,  8.1626e-02,\n",
       "            3.0229e-02, -2.5804e-02],\n",
       "          ...,\n",
       "          [ 1.3626e-01, -1.1617e-01,  1.1658e-01,  ..., -4.0639e-02,\n",
       "            5.2342e-02,  1.2051e-02],\n",
       "          [ 6.8336e-02, -1.3112e-01,  1.1147e-01,  ...,  1.1597e-01,\n",
       "            7.6483e-02,  4.1596e-03],\n",
       "          [ 1.5855e-02,  4.1704e-02,  3.5862e-03,  ...,  4.0516e-02,\n",
       "           -4.0070e-02, -2.1152e-02]]],\n",
       "\n",
       "\n",
       "        [[[ 2.5577e-02,  1.5255e-01,  9.2407e-02,  ...,  1.0251e-01,\n",
       "            1.1929e-02,  1.0730e-02],\n",
       "          [ 4.1876e-02,  1.1872e-01,  5.5944e-02,  ...,  1.0267e-01,\n",
       "            8.8931e-03, -7.3951e-02],\n",
       "          [ 2.4937e-02,  4.7218e-02,  1.9464e-02,  ..., -6.1730e-02,\n",
       "           -1.7686e-01, -1.6031e-02],\n",
       "          ...,\n",
       "          [-8.2999e-02, -6.6596e-03, -2.7972e-02,  ...,  1.0403e-01,\n",
       "            2.5754e-02, -2.9964e-02],\n",
       "          [ 2.7719e-02,  2.8101e-01, -1.0815e-01,  ...,  1.6487e-01,\n",
       "           -1.6858e-01, -2.0005e-02],\n",
       "          [-4.9923e-02,  8.8501e-03, -4.4960e-02,  ...,  7.0803e-02,\n",
       "            2.2403e-04, -1.0337e-02]],\n",
       "\n",
       "         [[ 6.1773e-02,  3.5343e-02,  2.4690e-02,  ...,  2.1131e-02,\n",
       "            2.7659e-02, -1.1227e-02],\n",
       "          [-2.0844e-02,  8.9272e-02, -7.7114e-02,  ...,  1.6761e-01,\n",
       "           -1.8468e-03,  2.6533e-02],\n",
       "          [-1.3858e-02,  5.0342e-03,  2.8192e-02,  ..., -1.7236e-01,\n",
       "           -6.1807e-03,  3.9092e-02],\n",
       "          ...,\n",
       "          [-7.3531e-02,  2.7988e-02, -1.5278e-01,  ...,  8.0437e-02,\n",
       "           -7.1654e-02,  1.0105e-02],\n",
       "          [ 1.6184e-02,  2.4679e-02, -1.1449e-01,  ..., -5.5184e-02,\n",
       "           -9.0187e-02,  2.7486e-02],\n",
       "          [-8.5101e-03,  9.7201e-02, -3.9638e-02,  ...,  1.2359e-01,\n",
       "           -7.0770e-02, -8.0835e-03]],\n",
       "\n",
       "         [[-3.6980e-03, -3.6796e-02, -1.1321e-02,  ...,  7.0856e-02,\n",
       "           -2.4667e-03,  6.0568e-02],\n",
       "          [ 2.8882e-02, -1.0249e-01,  9.3518e-02,  ..., -6.3786e-02,\n",
       "            3.4412e-02, -4.5682e-02],\n",
       "          [ 6.9783e-02, -1.2937e-02,  4.3556e-02,  ...,  1.4878e-01,\n",
       "            5.0722e-02, -1.8321e-02],\n",
       "          ...,\n",
       "          [ 1.2590e-01, -9.2538e-02,  1.5197e-01,  ..., -4.4731e-02,\n",
       "            9.3558e-02, -2.6010e-02],\n",
       "          [ 4.2287e-02, -2.8149e-02,  1.6032e-01,  ...,  1.5672e-01,\n",
       "            1.2620e-01,  1.9642e-02],\n",
       "          [ 1.7928e-02,  4.2580e-02,  1.0516e-03,  ...,  3.2243e-02,\n",
       "           -4.4392e-02, -2.4951e-02]]],\n",
       "\n",
       "\n",
       "        ...,\n",
       "\n",
       "\n",
       "        [[[ 2.0656e-02,  1.2797e-01,  7.0549e-02,  ...,  9.7283e-02,\n",
       "            3.1278e-03,  1.5967e-02],\n",
       "          [ 3.6605e-02,  5.9653e-02,  9.6338e-03,  ...,  1.9746e-02,\n",
       "           -2.0055e-02, -5.9877e-02],\n",
       "          [ 2.0960e-02,  3.2388e-02, -4.9936e-02,  ..., -2.1812e-03,\n",
       "           -1.5363e-01, -5.3875e-03],\n",
       "          ...,\n",
       "          [-1.0055e-01,  2.2265e-03,  2.2412e-02,  ...,  1.0613e-01,\n",
       "            6.9829e-02, -4.8026e-02],\n",
       "          [ 2.1800e-02,  2.8119e-01, -1.0010e-01,  ...,  1.6802e-01,\n",
       "           -1.6580e-01, -2.5620e-02],\n",
       "          [-4.6840e-02,  2.5395e-02, -5.4570e-02,  ...,  5.8015e-02,\n",
       "           -9.1928e-03, -1.8004e-02]],\n",
       "\n",
       "         [[ 5.0683e-02,  2.8466e-02,  3.6199e-02,  ...,  2.1117e-03,\n",
       "            2.1430e-02, -1.0834e-02],\n",
       "          [-4.3848e-02,  1.0473e-01, -9.0505e-02,  ...,  1.4422e-01,\n",
       "           -2.9948e-02,  1.9395e-02],\n",
       "          [-7.8273e-03,  1.5054e-02,  3.7907e-02,  ..., -1.3489e-01,\n",
       "           -5.9508e-02,  7.5715e-02],\n",
       "          ...,\n",
       "          [-7.0588e-02,  1.1570e-01, -1.4423e-01,  ...,  7.6953e-02,\n",
       "           -4.3398e-02,  7.9205e-03],\n",
       "          [ 1.7829e-02, -1.9151e-02, -6.1000e-02,  ..., -2.4973e-02,\n",
       "           -9.5197e-02,  9.5397e-03],\n",
       "          [ 6.7684e-04,  9.7234e-02,  3.1525e-04,  ...,  1.0201e-01,\n",
       "           -8.8095e-02, -1.8302e-02]],\n",
       "\n",
       "         [[-1.4242e-02, -3.4329e-02, -5.9969e-03,  ...,  6.9206e-02,\n",
       "            2.4538e-02,  5.0194e-02],\n",
       "          [ 2.1955e-02, -1.5153e-01,  1.0324e-01,  ..., -3.4368e-02,\n",
       "            8.7655e-03, -3.2718e-02],\n",
       "          [ 4.5703e-02,  9.3920e-04, -8.7148e-03,  ...,  1.2296e-01,\n",
       "            8.6442e-03, -7.0565e-03],\n",
       "          ...,\n",
       "          [ 1.6324e-01, -6.7820e-02,  1.9729e-01,  ..., -2.2205e-02,\n",
       "            6.1046e-02, -1.7371e-02],\n",
       "          [ 7.1572e-02, -3.3339e-02,  1.3493e-01,  ...,  1.3896e-01,\n",
       "            8.3830e-02,  2.3146e-02],\n",
       "          [ 1.8646e-02,  6.9951e-02, -9.4319e-03,  ...,  4.0423e-02,\n",
       "           -1.5760e-02, -1.4886e-02]]],\n",
       "\n",
       "\n",
       "        [[[ 2.8139e-02,  1.2771e-01,  8.1653e-02,  ...,  9.4296e-02,\n",
       "            1.9876e-02,  5.1474e-03],\n",
       "          [ 6.2377e-02,  2.5895e-02,  1.4405e-01,  ...,  7.1012e-02,\n",
       "           -1.6633e-02, -7.4264e-02],\n",
       "          [ 3.0332e-02, -8.2057e-04,  2.3518e-02,  ..., -5.5874e-02,\n",
       "           -1.4885e-01,  2.5788e-02],\n",
       "          ...,\n",
       "          [-6.6203e-02, -2.1605e-02, -8.3591e-02,  ...,  5.4194e-02,\n",
       "            6.6734e-02, -2.3911e-02],\n",
       "          [ 4.7087e-02,  3.1708e-01, -9.4862e-02,  ...,  1.4569e-01,\n",
       "           -1.2499e-01, -3.5250e-02],\n",
       "          [-4.5683e-02,  7.4936e-02, -8.4686e-02,  ...,  5.9933e-02,\n",
       "           -2.3651e-02, -1.1983e-02]],\n",
       "\n",
       "         [[ 7.1094e-02,  5.1491e-02,  3.7729e-02,  ...,  3.7937e-02,\n",
       "            5.5303e-03,  6.4887e-04],\n",
       "          [-4.0095e-02,  9.9086e-02, -9.4164e-02,  ...,  1.8183e-01,\n",
       "            7.9500e-03,  2.4003e-02],\n",
       "          [-2.3904e-03,  3.3966e-02,  3.1749e-02,  ..., -1.2749e-01,\n",
       "           -1.0084e-01,  2.1310e-02],\n",
       "          ...,\n",
       "          [-5.5999e-02,  9.5850e-05, -1.6378e-01,  ...,  5.3822e-02,\n",
       "           -2.2249e-02,  2.5859e-02],\n",
       "          [ 6.5946e-03, -8.5755e-03, -1.1676e-01,  ...,  1.4241e-02,\n",
       "           -1.1701e-01,  4.0700e-03],\n",
       "          [ 5.3202e-03,  1.2748e-01, -3.2058e-02,  ...,  1.0424e-01,\n",
       "           -4.1525e-02, -2.3301e-02]],\n",
       "\n",
       "         [[-7.1173e-03, -4.1157e-02, -2.4846e-02,  ...,  9.3546e-02,\n",
       "            3.0071e-02,  6.0020e-02],\n",
       "          [ 2.1509e-02, -1.3268e-01,  1.4923e-01,  ..., -6.2154e-02,\n",
       "            1.9079e-02, -4.4303e-02],\n",
       "          [ 7.1528e-02, -8.8536e-03,  9.8100e-03,  ...,  1.1964e-01,\n",
       "            7.7179e-02, -3.3559e-02],\n",
       "          ...,\n",
       "          [ 1.4190e-01, -4.1631e-02,  1.8093e-01,  ...,  1.9446e-02,\n",
       "            8.9432e-02, -3.9238e-02],\n",
       "          [ 7.2542e-02, -1.1109e-01,  6.9844e-02,  ...,  1.2713e-01,\n",
       "            8.3071e-02,  2.7110e-02],\n",
       "          [ 2.3960e-02,  7.1399e-03,  5.3840e-03,  ...,  3.6964e-02,\n",
       "           -4.5042e-02, -1.3121e-02]]],\n",
       "\n",
       "\n",
       "        [[[ 2.5417e-02,  1.4889e-01,  7.1697e-02,  ...,  8.9879e-02,\n",
       "            3.7461e-02,  1.8278e-02],\n",
       "          [ 5.2123e-02,  9.0685e-02,  4.8538e-02,  ...,  5.0364e-02,\n",
       "           -1.4910e-02, -5.9019e-02],\n",
       "          [ 4.0498e-02,  9.7345e-03, -3.0042e-02,  ..., -4.0634e-02,\n",
       "           -1.5921e-01, -1.7882e-02],\n",
       "          ...,\n",
       "          [-9.2697e-02, -6.2234e-02, -5.4410e-02,  ...,  1.1239e-01,\n",
       "            4.8218e-02, -3.1248e-02],\n",
       "          [ 2.5244e-02,  2.5959e-01, -8.7345e-02,  ...,  1.5037e-01,\n",
       "           -1.3030e-01, -1.4488e-02],\n",
       "          [-5.3276e-02,  2.8846e-02, -5.0575e-02,  ...,  4.0074e-02,\n",
       "           -1.5920e-02, -8.6467e-03]],\n",
       "\n",
       "         [[ 5.4473e-02,  3.1914e-02,  1.8537e-02,  ...,  2.1373e-02,\n",
       "            3.1007e-02, -1.2620e-02],\n",
       "          [-3.2189e-02,  9.3716e-02, -6.1561e-02,  ...,  1.3570e-01,\n",
       "            4.7054e-03,  2.0806e-02],\n",
       "          [-3.0014e-02, -1.4513e-02, -3.0148e-02,  ..., -1.7979e-01,\n",
       "           -3.2399e-02,  5.1009e-02],\n",
       "          ...,\n",
       "          [-8.2268e-02,  6.2205e-02, -1.7098e-01,  ...,  4.7886e-02,\n",
       "           -8.0109e-02, -2.9983e-03],\n",
       "          [ 1.4052e-03, -2.6392e-02, -9.3862e-02,  ..., -3.0650e-02,\n",
       "           -5.0628e-02,  1.2648e-04],\n",
       "          [-2.0541e-02,  1.2196e-01,  2.2848e-02,  ...,  9.3874e-02,\n",
       "           -7.8178e-02, -1.4959e-02]],\n",
       "\n",
       "         [[-1.0717e-02, -4.6259e-02, -1.2055e-02,  ...,  6.4446e-02,\n",
       "            1.4186e-02,  6.1562e-02],\n",
       "          [ 3.1516e-02, -1.4320e-01,  9.2677e-02,  ..., -5.5160e-02,\n",
       "            4.9049e-02, -6.3084e-02],\n",
       "          [ 6.2342e-02, -1.9607e-02,  5.3964e-03,  ...,  1.3537e-01,\n",
       "           -7.2294e-03, -4.2946e-03],\n",
       "          ...,\n",
       "          [ 1.4984e-01, -1.0885e-01,  1.4074e-01,  ..., -3.0726e-02,\n",
       "            7.8092e-02, -3.9148e-02],\n",
       "          [ 5.1099e-02, -4.5542e-02,  1.2259e-01,  ...,  1.5098e-01,\n",
       "            4.4663e-02,  2.4152e-02],\n",
       "          [ 2.6111e-02,  4.3522e-02, -4.3716e-03,  ...,  3.4339e-02,\n",
       "           -1.4024e-02, -2.1651e-02]]]])"
      ]
     },
     "execution_count": 6,
     "metadata": {},
     "output_type": "execute_result"
    }
   ],
   "source": [
    "model(next(iter(train_data))[0])"
   ]
  },
  {
   "cell_type": "code",
   "execution_count": 7,
   "metadata": {},
   "outputs": [],
   "source": [
    "train_loss, val_acc, train_acc = list(), list(), list()\n",
    "\n",
    "network = CAE()\n",
    "params = [param for param in network.parameters() if param.requires_grad]\n",
    "optimizer = torch.optim.Adam(params)\n",
    "# criterion = nn.CrossEntropyLoss()\n",
    "epoch = 0\n",
    "mse_criterion = nn.MSELoss()\n",
    "ce_criterion = nn.CrossEntropyLoss()"
   ]
  },
  {
   "cell_type": "code",
   "execution_count": null,
   "metadata": {},
   "outputs": [
    {
     "data": {
      "image/png": "[encoded data removed]",
      "text/plain": [
       "<matplotlib.figure.Figure at 0x7fa9681027f0>"
      ]
     },
     "metadata": {},
     "output_type": "display_data"
    },
    {
     "name": "stdout",
     "output_type": "stream",
     "text": [
      "Loss: 0.11649751643939264\n"
     ]
    }
   ],
   "source": [
    "while True:\n",
    "    print(\"Epoch\", epoch)\n",
    "    network.train(True)\n",
    "    \n",
    "    epoch_loss = []\n",
    "    \n",
    "    for X_batch in train_data:\n",
    "        X_batch = X_batch[0]\n",
    "        reconstruction = network(Variable(X_batch))\n",
    "        r_loss = mse_criterion(reconstruction, X_batch)\n",
    "        \n",
    "        loss = 10*r_loss\n",
    "\n",
    "        # train on batch\n",
    "        optimizer.zero_grad()\n",
    "        loss.backward()\n",
    "        optimizer.step()\n",
    "        \n",
    "        try:\n",
    "            epoch_loss.append(loss.data.item())\n",
    "        except:\n",
    "            epoch_loss.append(loss.data.numpy()[0])\n",
    "\n",
    "        train_loss.append(np.mean(epoch_loss))\n",
    "            \n",
    "        plt.clf()\n",
    "        plt.plot(train_loss[-100:])\n",
    "        plt.title('Train loss')\n",
    "        \n",
    "        display.clear_output(wait=True)\n",
    "        display.display(plt.gcf())\n",
    "\n",
    "        print(\"Loss: {}\".format(train_loss[-1]))\n",
    "        \n",
    "        epoch += 1"
   ]
  },
  {
   "cell_type": "code",
   "execution_count": null,
   "metadata": {},
   "outputs": [],
   "source": [
    "40*31*23*64"
   ]
  },
  {
   "cell_type": "code",
   "execution_count": 186,
   "metadata": {},
   "outputs": [
    {
     "data": {
      "text/plain": [
       "<matplotlib.image.AxesImage at 0x7fa968d20668>"
      ]
     },
     "execution_count": 186,
     "metadata": {},
     "output_type": "execute_result"
    },
    {
     "data": {
      "image/png": "[encoded data removed]",
      "text/plain": [
       "<matplotlib.figure.Figure at 0x7fa9689aadd8>"
      ]
     },
     "metadata": {},
     "output_type": "display_data"
    }
   ],
   "source": [
    "c = next(iter(train_data))[0]\n",
    "a = network(c)\n",
    "# print(a)\n",
    "a = a[0].permute(1, 2, 0)\n",
    "\n",
    "# print(a.shape)\n",
    "a = a.cpu().detach().numpy()\n",
    "b = np.clip(a, 0, 1)\n",
    "plt.imshow(b)"
   ]
  },
  {
   "cell_type": "code",
   "execution_count": 187,
   "metadata": {},
   "outputs": [
    {
     "data": {
      "text/plain": [
       "<matplotlib.image.AxesImage at 0x7fa968ce94a8>"
      ]
     },
     "execution_count": 187,
     "metadata": {},
     "output_type": "execute_result"
    },
    {
     "data": {
      "image/png": "[encoded data removed]",
      "text/plain": [
       "<matplotlib.figure.Figure at 0x7fa968173b38>"
      ]
     },
     "metadata": {},
     "output_type": "display_data"
    }
   ],
   "source": [
    "plt.imshow(c[0].permute(1, 2, 0))"
   ]
  },
  {
   "cell_type": "code",
   "execution_count": null,
   "metadata": {},
   "outputs": [],
   "source": []
  },
  {
   "cell_type": "code",
   "execution_count": 126,
   "metadata": {},
   "outputs": [],
   "source": [
    "from copy import deepcopy\n",
    "\n",
    "model = deepcopy(network)"
   ]
  },
  {
   "cell_type": "code",
   "execution_count": 129,
   "metadata": {},
   "outputs": [],
   "source": [
    "modules = list(iter(model.decoder.modules()))[1:]"
   ]
  },
  {
   "cell_type": "code",
   "execution_count": 130,
   "metadata": {},
   "outputs": [
    {
     "data": {
      "text/plain": [
       "[Sequential(\n",
       "   (0): ConvTranspose2d(500, 1536, kernel_size=(4, 4), stride=(1, 1), bias=False)\n",
       "   (1): BatchNorm2d(1536, eps=1e-05, momentum=0.1, affine=True, track_running_stats=True)\n",
       "   (2): ReLU(inplace)\n",
       "   (3): ConvTranspose2d(1536, 768, kernel_size=(4, 4), stride=(2, 2), padding=(1, 1), bias=False)\n",
       "   (4): BatchNorm2d(768, eps=1e-05, momentum=0.1, affine=True, track_running_stats=True)\n",
       "   (5): ReLU(inplace)\n",
       "   (6): ConvTranspose2d(768, 384, kernel_size=(4, 4), stride=(2, 2), padding=(1, 1), bias=False)\n",
       "   (7): BatchNorm2d(384, eps=1e-05, momentum=0.1, affine=True, track_running_stats=True)\n",
       "   (8): ReLU(inplace)\n",
       "   (9): ConvTranspose2d(384, 192, kernel_size=(4, 4), stride=(2, 2), padding=(1, 1), bias=False)\n",
       "   (10): BatchNorm2d(192, eps=1e-05, momentum=0.1, affine=True, track_running_stats=True)\n",
       "   (11): ReLU(inplace)\n",
       "   (12): ConvTranspose2d(192, 3, kernel_size=(4, 4), stride=(2, 2), padding=(1, 1), bias=False)\n",
       "   (13): Tanh()\n",
       " ),\n",
       " ConvTranspose2d(500, 1536, kernel_size=(4, 4), stride=(1, 1), bias=False),\n",
       " BatchNorm2d(1536, eps=1e-05, momentum=0.1, affine=True, track_running_stats=True),\n",
       " ReLU(inplace),\n",
       " ConvTranspose2d(1536, 768, kernel_size=(4, 4), stride=(2, 2), padding=(1, 1), bias=False),\n",
       " BatchNorm2d(768, eps=1e-05, momentum=0.1, affine=True, track_running_stats=True),\n",
       " ReLU(inplace),\n",
       " ConvTranspose2d(768, 384, kernel_size=(4, 4), stride=(2, 2), padding=(1, 1), bias=False),\n",
       " BatchNorm2d(384, eps=1e-05, momentum=0.1, affine=True, track_running_stats=True),\n",
       " ReLU(inplace),\n",
       " ConvTranspose2d(384, 192, kernel_size=(4, 4), stride=(2, 2), padding=(1, 1), bias=False),\n",
       " BatchNorm2d(192, eps=1e-05, momentum=0.1, affine=True, track_running_stats=True),\n",
       " ReLU(inplace),\n",
       " ConvTranspose2d(192, 3, kernel_size=(4, 4), stride=(2, 2), padding=(1, 1), bias=False),\n",
       " Tanh()]"
      ]
     },
     "execution_count": 130,
     "metadata": {},
     "output_type": "execute_result"
    }
   ],
   "source": [
    "modules"
   ]
  },
  {
   "cell_type": "code",
   "execution_count": 132,
   "metadata": {},
   "outputs": [
    {
     "ename": "RuntimeError",
     "evalue": "invalid argument 2: size '[1 x 40 x 8 x 8]' is invalid for input with 12288 elements at /pytorch/aten/src/TH/THStorage.c:41",
     "output_type": "error",
     "traceback": [
      "\u001b[0;31m---------------------------------------------------------------------------\u001b[0m",
      "\u001b[0;31mRuntimeError\u001b[0m                              Traceback (most recent call last)",
      "\u001b[0;32m<ipython-input-132-8434c3cbf954>\u001b[0m in \u001b[0;36m<module>\u001b[0;34m()\u001b[0m\n\u001b[1;32m     16\u001b[0m         \u001b[0mx\u001b[0m \u001b[0;34m=\u001b[0m \u001b[0mmodules\u001b[0m\u001b[0;34m[\u001b[0m\u001b[0;36m0\u001b[0m\u001b[0;34m]\u001b[0m\u001b[0;34m(\u001b[0m\u001b[0mr\u001b[0m\u001b[0;34m)\u001b[0m\u001b[0;34m\u001b[0m\u001b[0m\n\u001b[1;32m     17\u001b[0m         \u001b[0mx\u001b[0m \u001b[0;34m=\u001b[0m \u001b[0mrelu\u001b[0m\u001b[0;34m(\u001b[0m\u001b[0mx\u001b[0m\u001b[0;34m)\u001b[0m\u001b[0;34m\u001b[0m\u001b[0m\n\u001b[0;32m---> 18\u001b[0;31m         \u001b[0mx\u001b[0m \u001b[0;34m=\u001b[0m \u001b[0mx\u001b[0m\u001b[0;34m.\u001b[0m\u001b[0mview\u001b[0m\u001b[0;34m(\u001b[0m\u001b[0;36m1\u001b[0m\u001b[0;34m,\u001b[0m \u001b[0;36m40\u001b[0m\u001b[0;34m,\u001b[0m \u001b[0;36m8\u001b[0m\u001b[0;34m,\u001b[0m \u001b[0;36m8\u001b[0m\u001b[0;34m)\u001b[0m\u001b[0;34m\u001b[0m\u001b[0m\n\u001b[0m\u001b[1;32m     19\u001b[0m         \u001b[0mx\u001b[0m \u001b[0;34m=\u001b[0m \u001b[0mmodules\u001b[0m\u001b[0;34m[\u001b[0m\u001b[0;36m1\u001b[0m\u001b[0;34m]\u001b[0m\u001b[0;34m(\u001b[0m\u001b[0mx\u001b[0m\u001b[0;34m)\u001b[0m\u001b[0;34m\u001b[0m\u001b[0m\n\u001b[1;32m     20\u001b[0m \u001b[0;34m\u001b[0m\u001b[0m\n",
      "\u001b[0;31mRuntimeError\u001b[0m: invalid argument 2: size '[1 x 40 x 8 x 8]' is invalid for input with 12288 elements at /pytorch/aten/src/TH/THStorage.c:41"
     ]
    }
   ],
   "source": [
    "# one = torch.zeros(1, 100)\n",
    "it = 0\n",
    "# p= torch.rand(1, 1000)\n",
    "p = torch.zeros(1, 500, 1, 1)\n",
    "p[0, np.random.randint(10)] = 1\n",
    "while True:\n",
    "    q = torch.rand(1, 500, 1, 1)\n",
    "#     q = torch.zeros(1, 1000)\n",
    "#     q[0, np.random.randint(00)] = 1\n",
    "\n",
    "    relu = nn.ReLU()\n",
    "    for i in np.arange(0, 1, 0.1):\n",
    "    # one[0, 5]\n",
    "        it += 1\n",
    "        r = p*(1-i) + q*i\n",
    "        x = modules[0](r)\n",
    "        x = relu(x)\n",
    "        x = x.view(1, , 8, 8)\n",
    "        x = modules[1](x)\n",
    "\n",
    "        x = modules[2](x)\n",
    "        x = relu(x)\n",
    "        x = modules[3](x)\n",
    "        x = modules[4](x)\n",
    "        x = relu(x)\n",
    "        x = modules[5](x)\n",
    "        x = modules[6](x)\n",
    "\n",
    "        print(x[0].shape)\n",
    "        a = x[0].permute(1, 2, 0)\n",
    "\n",
    "        print(a.shape)\n",
    "        a = a.cpu().detach().numpy()\n",
    "        b = np.clip(a, 0, 1)\n",
    "        \n",
    "        display.clear_output(wait=True)\n",
    "        plt.imshow(b)\n",
    "\n",
    "#         fig, ax = plt.subplots(figsize=(3, 3))\n",
    "# #         fig.savefig(\"{:4d}\".format(it)+\".png\", dpi=fig.dpi)\n",
    "#     #     plt.show()\n",
    "\n",
    "        display.display(plt.gcf())\n",
    "    p = q"
   ]
  },
  {
   "cell_type": "code",
   "execution_count": null,
   "metadata": {},
   "outputs": [],
   "source": [
    "40*8*8"
   ]
  },
  {
   "cell_type": "code",
   "execution_count": null,
   "metadata": {},
   "outputs": [],
   "source": [
    "torch.rand(1)"
   ]
  },
  {
   "cell_type": "code",
   "execution_count": null,
   "metadata": {},
   "outputs": [],
   "source": []
  },
  {
   "cell_type": "code",
   "execution_count": null,
   "metadata": {},
   "outputs": [],
   "source": []
  },
  {
   "cell_type": "code",
   "execution_count": null,
   "metadata": {},
   "outputs": [],
   "source": [
    "y_onehot"
   ]
  },
  {
   "cell_type": "code",
   "execution_count": null,
   "metadata": {},
   "outputs": [],
   "source": [
    "x.view(x.size(0), 1)"
   ]
  },
  {
   "cell_type": "code",
   "execution_count": null,
   "metadata": {},
   "outputs": [],
   "source": [
    "t[[0, 1]]"
   ]
  },
  {
   "cell_type": "code",
   "execution_count": null,
   "metadata": {},
   "outputs": [],
   "source": [
    "x.v"
   ]
  },
  {
   "cell_type": "code",
   "execution_count": null,
   "metadata": {},
   "outputs": [],
   "source": [
    "t[[1,2, 3, 4]] = 1"
   ]
  },
  {
   "cell_type": "code",
   "execution_count": null,
   "metadata": {},
   "outputs": [],
   "source": [
    "t[a, 0] = 1"
   ]
  },
  {
   "cell_type": "code",
   "execution_count": null,
   "metadata": {},
   "outputs": [],
   "source": [
    "t"
   ]
  },
  {
   "cell_type": "code",
   "execution_count": null,
   "metadata": {},
   "outputs": [],
   "source": [
    "optimizer.param_groups[0]['lr'] = 0.0001"
   ]
  },
  {
   "cell_type": "code",
   "execution_count": 110,
   "metadata": {},
   "outputs": [],
   "source": [
    "import pickle\n",
    "\n",
    "with open(\"cae2.pickle\", \"wb\") as f:\n",
    "    pickle.dump(network, f)"
   ]
  },
  {
   "cell_type": "code",
   "execution_count": null,
   "metadata": {},
   "outputs": [],
   "source": [
    "import pickle\n",
    "\n",
    "with open(\"cae2.pickle\", \"rb\") as f:\n",
    "    pickle.load(f)"
   ]
  },
  {
   "cell_type": "code",
   "execution_count": null,
   "metadata": {},
   "outputs": [],
   "source": [
    "pickle.load(f)"
   ]
  },
  {
   "cell_type": "code",
   "execution_count": null,
   "metadata": {},
   "outputs": [],
   "source": []
  }
 ],
 "metadata": {
  "kernelspec": {
   "display_name": "Python 3",
   "language": "python",
   "name": "python3"
  },
  "language_info": {
   "codemirror_mode": {
    "name": "ipython",
    "version": 3
   },
   "file_extension": ".py",
   "mimetype": "text/x-python",
   "name": "python",
   "nbconvert_exporter": "python",
   "pygments_lexer": "ipython3",
   "version": "3.6.6"
  }
 },
 "nbformat": 4,
 "nbformat_minor": 2
}
